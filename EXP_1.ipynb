{
  "nbformat": 4,
  "nbformat_minor": 0,
  "metadata": {
    "colab": {
      "provenance": [],
      "authorship_tag": "ABX9TyMBQPjkARfVXbbY4G1SIz9E",
      "include_colab_link": true
    },
    "kernelspec": {
      "name": "python3",
      "display_name": "Python 3"
    },
    "language_info": {
      "name": "python"
    }
  },
  "cells": [
    {
      "cell_type": "markdown",
      "metadata": {
        "id": "view-in-github",
        "colab_type": "text"
      },
      "source": [
        "<a href=\"https://colab.research.google.com/github/abdulkhalid02/AI-Lab/blob/main/EXP_1.ipynb\" target=\"_parent\"><img src=\"https://colab.research.google.com/assets/colab-badge.svg\" alt=\"Open In Colab\"/></a>"
      ]
    },
    {
      "cell_type": "code",
      "execution_count": null,
      "metadata": {
        "id": "94BNnRRJife9"
      },
      "outputs": [],
      "source": [
        "# Integer\n",
        "age = 25\n",
        "print(\"Age:\", age, \"Type:\", type(age))\n",
        "\n",
        "# Float\n",
        "height = 5.9\n",
        "print(\"Height:\", height, \"Type:\", type(height))\n",
        "\n",
        "# String\n",
        "name = \"Alice\"\n",
        "print(\"Name:\", name, \"Type:\", type(name))\n",
        "\n",
        "# Boolean\n",
        "is_student = True\n",
        "print(\"Is Student:\", is_student, \"Type:\", type(is_student))\n",
        "\n",
        "# List\n",
        "fruits = [\"apple\", \"banana\", \"cherry\"]\n",
        "print(\"Fruits:\", fruits, \"Type:\", type(fruits))\n",
        "\n",
        "# Tuple\n",
        "colors = (\"red\", \"green\", \"blue\")\n",
        "print(\"Colors:\", colors, \"Type:\", type(colors))\n",
        "\n",
        "# Dictionary\n",
        "person = {\"name\": \"Bob\", \"age\": 30}\n",
        "print(\"Person:\", person, \"Type:\", type(person))\n",
        "\n",
        "# For Loop Example – Print numbers 1 to 5\n",
        "print(\"Numbers from 1 to 5:\")\n",
        "for i in range(1, 6):\n",
        "    print(i)\n",
        "\n",
        "# While Loop Example – Countdown\n",
        "count = 5\n",
        "print(\"Countdown:\")\n",
        "while count > 0:\n",
        "    print(count)\n",
        "    count -= 1\n",
        "\n",
        "# Looping Through a List\n",
        "colors = [\"red\", \"green\", \"blue\"]\n",
        "print(\"Colors in the list:\")\n",
        "for color in colors:\n",
        "    print(color)\n",
        "\n",
        "# Using Loops with Conditions (even numbers)\n",
        "print(\"Even numbers from\n"
      ]
    }
  ]
}