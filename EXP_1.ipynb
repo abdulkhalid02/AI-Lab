{
  "nbformat": 4,
  "nbformat_minor": 0,
  "metadata": {
    "colab": {
      "provenance": [],
      "authorship_tag": "ABX9TyN7d6LsSxK8o7HGkEt3dXoH",
      "include_colab_link": true
    },
    "kernelspec": {
      "name": "python3",
      "display_name": "Python 3"
    },
    "language_info": {
      "name": "python"
    }
  },
  "cells": [
    {
      "cell_type": "markdown",
      "metadata": {
        "id": "view-in-github",
        "colab_type": "text"
      },
      "source": [
        "<a href=\"https://colab.research.google.com/github/abdulkhalid02/AI-Lab/blob/main/EXP_1.ipynb\" target=\"_parent\"><img src=\"https://colab.research.google.com/assets/colab-badge.svg\" alt=\"Open In Colab\"/></a>"
      ]
    },
    {
      "cell_type": "code",
      "execution_count": 2,
      "metadata": {
        "colab": {
          "base_uri": "https://localhost:8080/",
          "height": 106
        },
        "id": "94BNnRRJife9",
        "outputId": "f24d8ad1-c4dc-4fc9-b861-e969c89ef8e6"
      },
      "outputs": [
        {
          "output_type": "error",
          "ename": "SyntaxError",
          "evalue": "unterminated string literal (detected at line 48) (ipython-input-2-4104918452.py, line 48)",
          "traceback": [
            "\u001b[0;36m  File \u001b[0;32m\"/tmp/ipython-input-2-4104918452.py\"\u001b[0;36m, line \u001b[0;32m48\u001b[0m\n\u001b[0;31m    print(\"Even numbers from\u001b[0m\n\u001b[0m          ^\u001b[0m\n\u001b[0;31mSyntaxError\u001b[0m\u001b[0;31m:\u001b[0m unterminated string literal (detected at line 48)\n"
          ]
        }
      ],
      "source": [
        "# Integer\n",
        "age = 25\n",
        "print(\"Age:\", age, \"Type:\", type(age))\n",
        "\n",
        "# Float\n",
        "height = 5.9\n",
        "print(\"Height:\", height, \"Type:\", type(height))\n",
        "\n",
        "# String\n",
        "name = \"Alice\"\n",
        "print(\"Name:\", name, \"Type:\", type(name))\n",
        "\n",
        "# Boolean\n",
        "is_student = True\n",
        "print(\"Is Student:\", is_student, \"Type:\", type(is_student))\n",
        "\n",
        "# List\n",
        "fruits = [\"apple\", \"banana\", \"cherry\"]\n",
        "print(\"Fruits:\", fruits, \"Type:\", type(fruits))\n",
        "\n",
        "# Tuple\n",
        "colors = (\"red\", \"green\", \"blue\")\n",
        "print(\"Colors:\", colors, \"Type:\", type(colors))\n",
        "\n",
        "# Dictionary\n",
        "person = {\"name\": \"Bob\", \"age\": 30}\n",
        "print(\"Person:\", person, \"Type:\", type(person))\n",
        "\n",
        "# For Loop Example – Print numbers 1 to 5\n",
        "print(\"Numbers from 1 to 5:\")\n",
        "for i in range(1, 6):\n",
        "    print(i)\n",
        "\n",
        "# While Loop Example – Countdown\n",
        "count = 5\n",
        "print(\"Countdown:\")\n",
        "while count > 0:\n",
        "    print(count)\n",
        "    count -= 1\n",
        "\n",
        "# Looping Through a List\n",
        "colors = [\"red\", \"green\", \"blue\"]\n",
        "print(\"Colors in the list:\")\n",
        "for color in colors:\n",
        "    print(color)\n",
        "\n",
        "# Using Loops with Conditions (even numbers)\n",
        "print(\"Even numbers from 1 to 10:\")\n",
        "for i in range(1, 11):\n",
        "    if i % 2 == 0:\n",
        "        print(i)\n"
      ]
    }
  ]
}